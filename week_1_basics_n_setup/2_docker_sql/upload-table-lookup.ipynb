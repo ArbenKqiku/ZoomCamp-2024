{
 "cells": [
  {
   "cell_type": "code",
   "execution_count": 13,
   "id": "ec81292e-6193-4b79-bddd-51ac51ddeb03",
   "metadata": {},
   "outputs": [],
   "source": [
    "# Import packages\n",
    "import pandas as pd\n",
    "import os\n",
    "from sqlalchemy import create_engine"
   ]
  },
  {
   "cell_type": "code",
   "execution_count": 6,
   "id": "6d4580ed-f20f-44dc-bb82-98a43986c2e1",
   "metadata": {},
   "outputs": [],
   "source": [
    "# Create engine connection\n",
    "    # parameters\n",
    "user = \"root\"\n",
    "password = \"root\"\n",
    "port = \"5432\"\n",
    "host = \"localhost\"\n",
    "db = \"ny_taxi\"\n",
    "\n",
    "engine_string = f'postgresql://{user}:{password}@{host}:{port}/{db}'\n",
    "engine_connection = create_engine(engine_string)"
   ]
  },
  {
   "cell_type": "code",
   "execution_count": 8,
   "id": "7ef990e5-f746-4d2f-a3c2-b21571574828",
   "metadata": {},
   "outputs": [
    {
     "name": "stderr",
     "output_type": "stream",
     "text": [
      "--2024-01-24 13:22:09--  https://s3.amazonaws.com/nyc-tlc/misc/taxi+_zone_lookup.csv\n",
      "Resolving s3.amazonaws.com (s3.amazonaws.com)... 52.217.81.238, 52.216.8.149, 52.217.129.8, ...\n",
      "Connecting to s3.amazonaws.com (s3.amazonaws.com)|52.217.81.238|:443... connected.\n",
      "HTTP request sent, awaiting response... 200 OK\n",
      "Length: 12322 (12K) [application/octet-stream]\n",
      "Saving to: ‘taxi_lookup.csv’\n",
      "\n",
      "     0K .......... ..                                         100% 87.5M=0s\n",
      "\n",
      "2024-01-24 13:22:10 (87.5 MB/s) - ‘taxi_lookup.csv’ saved [12322/12322]\n",
      "\n"
     ]
    },
    {
     "data": {
      "text/plain": [
       "0"
      ]
     },
     "execution_count": 8,
     "metadata": {},
     "output_type": "execute_result"
    }
   ],
   "source": [
    "# Get data\n",
    "url = \"https://s3.amazonaws.com/nyc-tlc/misc/taxi+_zone_lookup.csv\"\n",
    "output_file_name = \"taxi_lookup.csv\"\n",
    "\n",
    " # download file from web\n",
    "os.system(f\"wget {url} -O {output_file_name}\")"
   ]
  },
  {
   "cell_type": "code",
   "execution_count": 15,
   "id": "38bf4a4f-4b60-4477-9d10-47e9e9feff76",
   "metadata": {},
   "outputs": [
    {
     "data": {
      "text/plain": [
       "0"
      ]
     },
     "execution_count": 15,
     "metadata": {},
     "output_type": "execute_result"
    }
   ],
   "source": [
    "# Create data base\n",
    "    # read file\n",
    "df = pd.read_csv('taxi_lookup.csv')\n",
    "\n",
    "table_name = \"zones\"\n",
    "\n",
    "    # create schema\n",
    "df.head(n=0).to_sql(name = table_name, con = engine_connection, if_exists = 'replace')"
   ]
  },
  {
   "cell_type": "code",
   "execution_count": 16,
   "id": "1caa3944-6d7a-4e86-a47d-269c2780c2b4",
   "metadata": {},
   "outputs": [
    {
     "data": {
      "text/plain": [
       "265"
      ]
     },
     "execution_count": 16,
     "metadata": {},
     "output_type": "execute_result"
    }
   ],
   "source": [
    "df.to_sql(con = engine_connection, name = table_name, if_exists = 'append')"
   ]
  }
 ],
 "metadata": {
  "kernelspec": {
   "display_name": "Python 3 (ipykernel)",
   "language": "python",
   "name": "python3"
  },
  "language_info": {
   "codemirror_mode": {
    "name": "ipython",
    "version": 3
   },
   "file_extension": ".py",
   "mimetype": "text/x-python",
   "name": "python",
   "nbconvert_exporter": "python",
   "pygments_lexer": "ipython3",
   "version": "3.10.13"
  }
 },
 "nbformat": 4,
 "nbformat_minor": 5
}
